{
 "cells": [
  {
   "cell_type": "markdown",
   "id": "0875ac5c",
   "metadata": {},
   "source": [
    "01"
   ]
  },
  {
   "cell_type": "code",
   "execution_count": 1,
   "id": "4be32d74",
   "metadata": {},
   "outputs": [],
   "source": [
    "# Посмотреть документацию к API GitHub, разобраться как вывести список репозиториев для \n",
    "# конкретного пользователя, сохранить JSON-вывод в файле *.json."
   ]
  },
  {
   "cell_type": "code",
   "execution_count": 2,
   "id": "dd8988f0",
   "metadata": {},
   "outputs": [
    {
     "name": "stdout",
     "output_type": "stream",
     "text": [
      "1. basics_RU\n",
      "2. foundation_RU\n",
      "3. libraries_RU\n",
      "4. MIT_EN\n",
      "5. parsing_RU\n",
      "6. things_EN\n"
     ]
    }
   ],
   "source": [
    "import requests\n",
    "import json\n",
    "\n",
    "github = requests.get('https://api.github.com/users/poliphonic/repos').json()\n",
    "with open('github.json', 'w') as file1:\n",
    "    json.dump(github, file1)\n",
    "for num, repo in enumerate(github):\n",
    "    print(f'{num + 1}. {repo[\"name\"]}')"
   ]
  },
  {
   "cell_type": "markdown",
   "id": "ac289f12",
   "metadata": {},
   "source": [
    "02"
   ]
  },
  {
   "cell_type": "code",
   "execution_count": 3,
   "id": "e3fc9bed",
   "metadata": {},
   "outputs": [],
   "source": [
    "# Изучить список открытых API (https://www.programmableweb.com/category/all/apis). Найти среди \n",
    "# них любое, требующее авторизацию (любого типа). Выполнить запросы к нему, пройдя авторизацию. \n",
    "# Ответ сервера записать в файл."
   ]
  },
  {
   "cell_type": "code",
   "execution_count": 4,
   "id": "df98a4fc",
   "metadata": {},
   "outputs": [
    {
     "name": "stdout",
     "output_type": "stream",
     "text": [
      "1. Bohemian Waxwing\n",
      "2. Hooded Crow\n",
      "3. Great Tit\n",
      "4. Eurasian Tree Sparrow\n",
      "5. Rock Pigeon\n",
      "6. Common Raven\n",
      "7. Fieldfare\n",
      "8. Eurasian Bullfinch\n",
      "9. Eurasian Nuthatch\n",
      "10. Mallard\n",
      "11. Eurasian Jackdaw\n",
      "12. Eurasian Magpie\n",
      "13. Marsh Tit\n",
      "14. European Greenfinch\n",
      "15. House Sparrow\n",
      "16. Great Spotted Woodpecker\n",
      "17. Carrion Crow\n",
      "18. European Robin\n",
      "19. Herring Gull\n",
      "20. Velvet Scoter\n",
      "21. Eurasian Blue Tit\n",
      "22. Long-tailed Duck\n",
      "23. Greater Scaup\n",
      "24. Great Black-backed Gull\n",
      "25. Steller's Eider\n",
      "26. Iceland Gull\n",
      "27. Long-eared Owl\n",
      "28. Black-headed Gull\n",
      "29. Common Goldeneye\n",
      "30. Common Gull\n",
      "31. Eurasian Jay\n",
      "32. Eurasian Blackbird\n",
      "33. Long-tailed Tit\n",
      "34. White-backed Woodpecker\n",
      "35. Rook\n",
      "36. Eurasian Treecreeper\n",
      "37. Common Chaffinch\n",
      "38. Little Grebe\n",
      "39. Eurasian Pygmy-Owl\n",
      "40. Eurasian Siskin\n",
      "41. Great Cormorant\n",
      "42. Lesser Black-backed Gull\n",
      "43. Tufted Duck\n",
      "44. Black-legged Kittiwake\n",
      "45. Green-winged Teal\n",
      "46. European Goldfinch\n",
      "47. Common Redpoll\n",
      "48. Goldcrest\n",
      "49. Red Crossbill\n",
      "50. Rock Ptarmigan\n",
      "51. White-throated Dipper\n",
      "52. Yellowhammer\n",
      "53. Black Woodpecker\n",
      "54. Rough-legged Hawk\n",
      "55. Great Gray Shrike\n",
      "56. Lesser Spotted Woodpecker\n",
      "57. Willow Tit\n",
      "58. Middle Spotted Woodpecker\n",
      "59. Common Merganser\n",
      "60. Barnacle Goose\n",
      "61. Northern Goshawk\n",
      "62. Gray-headed Chickadee\n",
      "63. Eurasian Three-toed Woodpecker\n",
      "64. Crested Tit\n",
      "65. Northern Shoveler\n",
      "66. Hawfinch\n",
      "67. Mistle Thrush\n",
      "68. Gray-headed Woodpecker\n",
      "69. Eurasian Green Woodpecker\n",
      "70. White-tailed Eagle\n",
      "71. Eurasian Wren\n",
      "72. Gray Partridge\n",
      "73. Snow Bunting\n",
      "74. Turkestan Short-toed Lark\n",
      "75. Pine Grosbeak\n",
      "76. Common Buzzard\n",
      "77. Eurasian Coot\n",
      "78. Siberian Jay\n",
      "79. Ruddy Shelduck\n",
      "80. Smew\n",
      "81. Coal Tit\n",
      "82. Brambling\n",
      "83. Syrian Woodpecker\n",
      "84. Caspian Gull\n",
      "85. Eurasian Linnet\n",
      "86. Long-tailed Rosefinch\n",
      "87. Glaucous Gull\n",
      "88. Mute Swan\n",
      "89. Common Scoter\n",
      "90. Eurasian Sparrowhawk\n",
      "91. Eurasian Collared-Dove\n",
      "92. Northern Pintail\n",
      "93. Upland Buzzard\n",
      "94. Great Crested Grebe\n",
      "95. Azure Tit\n",
      "96. Purple Sandpiper\n",
      "97. Hazel Grouse\n",
      "98. Eurasian Moorhen\n",
      "99. Eurasian Kestrel\n",
      "100. Common Kingfisher\n",
      "101. Harlequin Duck\n",
      "102. Golden Eagle\n",
      "103. Crested Lark\n",
      "104. European Starling\n",
      "105. Rock Bunting\n",
      "106. Twite\n",
      "107. Red-billed Chough\n",
      "108. Dunnock\n",
      "109. Merlin\n",
      "110. Yellow-billed Chough\n",
      "111. Gadwall\n"
     ]
    }
   ],
   "source": [
    "url = 'https://api.ebird.org/v2/data/obs'\n",
    "country = 'RU'\n",
    "api_key = 'cbdormhfetr4'\n",
    "full_url = f'{url}/{country}/recent?key={api_key}&x-ebirdapitoken={api_key}'\n",
    "headers = {\n",
    "    'User-Agent': 'Mozilla/5.0 (X11; Linux x86_64) AppleWebKit/537.36 (KHTML, like Gecko) ' \n",
    "                  'Chrome/110.0.0.0 Safari/537.36',\n",
    "    'Content-Type': 'application/json'\n",
    "}\n",
    "birds = requests.get(url=full_url, headers=headers).json()\n",
    "with open('birds.json', 'w') as file2:\n",
    "    json.dump(birds, file2)\n",
    "for n, bird in enumerate(birds):\n",
    "    print(f'{n + 1}. {bird[\"comName\"]}')"
   ]
  }
 ],
 "metadata": {
  "kernelspec": {
   "display_name": "Python 3 (ipykernel)",
   "language": "python",
   "name": "python3"
  },
  "language_info": {
   "codemirror_mode": {
    "name": "ipython",
    "version": 3
   },
   "file_extension": ".py",
   "mimetype": "text/x-python",
   "name": "python",
   "nbconvert_exporter": "python",
   "pygments_lexer": "ipython3",
   "version": "3.10.6"
  }
 },
 "nbformat": 4,
 "nbformat_minor": 5
}
